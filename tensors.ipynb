{
 "cells": [
  {
   "cell_type": "code",
   "execution_count": 1,
   "metadata": {},
   "outputs": [
    {
     "data": {
      "text/plain": [
       "(720, 1280, 3)"
      ]
     },
     "execution_count": 1,
     "metadata": {},
     "output_type": "execute_result"
    }
   ],
   "source": [
    "import imageio\n",
    "import torch\n",
    "\n",
    "img_arr = imageio.imread('data/bobby.jpg')\n",
    "\n",
    "img_arr.shape\n",
    "\n",
    "# img_array is a numpy array like object with three dimensions: two spatial dimensions, width and height and a third dimension corresponding to the\n",
    "# red, green and blue channels. "
   ]
  },
  {
   "cell_type": "code",
   "execution_count": 2,
   "metadata": {},
   "outputs": [],
   "source": [
    "# use the tensors 'permute' method with the old dimensions for each new dimension to get an appropiate layout\n",
    "\n",
    "# given an input tensor h * w * c we get a proper layout by having channel 2 first and then channels 0 and 1\n",
    "\n",
    "img = torch.from_numpy(img_arr)\n",
    "out = img.permute(2,0,1)\n",
    "\n",
    "# important to note that this operation does not make a copy of the tensor data"
   ]
  },
  {
   "cell_type": "code",
   "execution_count": 3,
   "metadata": {},
   "outputs": [],
   "source": [
    "# to create a dataset of multiple images to use as an input for neural networks, store the images in a batch along the first dimension\n",
    "# to obtain a n*c*h*w tensor.\n",
    "\n",
    "# create a tensor of an appropiate size and fill it with images loaded from a directory\n",
    "\n",
    "batch_size = 3 \n",
    "batch = torch.zeros(batch_size, 3, 256, 256, dtype=torch.uint8)\n",
    "\n",
    "# this indicates our batch will consist of three RGB images 256 pixels in height and 256 pixels in length \n",
    "\n",
    "# each colour will be represented as an 8 bit integer"
   ]
  },
  {
   "cell_type": "code",
   "execution_count": 4,
   "metadata": {},
   "outputs": [],
   "source": [
    "import os \n",
    "data_dir = 'data/cats/'\n",
    "\n",
    "filenames = [name for name in os.listdir(data_dir) if os.path.splitext(name)[-1] =='.png']\n",
    "\n",
    "for i, filename in enumerate(filenames):\n",
    "    img_arr = imageio.imread(os.path.join(data_dir,filename))\n",
    "    img_t = torch.from_numpy(img_arr)\n",
    "    img_t = img_t.permute(2,0,1)\n",
    "    img_t = img_t[:3]   # only keep the first 3 channels, some images have an alpha channel indicating transparency, but this network only wants RGB\n",
    "    batch[i] = img_t\n",
    "    "
   ]
  },
  {
   "cell_type": "markdown",
   "metadata": {},
   "source": [
    "NORMALIZING THE DATA:\n",
    "neural networks work best with data represented as floating point tensors with a range of [0,1] or [-1,1]."
   ]
  },
  {
   "cell_type": "code",
   "execution_count": 5,
   "metadata": {},
   "outputs": [],
   "source": [
    "# the easiest way is to divide the values of the pixels by 255 (max. representable number in 8 bit unsigned)\n",
    "batch = batch.float()\n",
    "batch /= 255.0"
   ]
  },
  {
   "cell_type": "code",
   "execution_count": 11,
   "metadata": {},
   "outputs": [],
   "source": [
    "# can normalize the data to mean = 0 and sd = 1\n",
    "n_channels = batch.shape[1]\n",
    "for c in range(n_channels):\n",
    "    mean = torch.mean(batch[:,c])\n",
    "    std = torch.std(batch[:,c])\n",
    "    batch[:,c] = (batch[:,c] - mean) / std"
   ]
  },
  {
   "cell_type": "markdown",
   "metadata": {},
   "source": [
    "3D IMAGES: VOLUMETRIC DATA\n",
    "CT scans have only a single intensity channel, similar to grayscale images. This means that the channel dimension is left out in native data formats, typically the raw data has three dimensions.\n",
    "\n",
    "By stacking individual 2d slices into a 3d tensor we can build volumetric data representing the 3d anatomy.\n",
    "\n",
    "we have a 5d tensor of n * c * d * h * w with d = depth"
   ]
  },
  {
   "cell_type": "code",
   "execution_count": null,
   "metadata": {},
   "outputs": [],
   "source": []
  }
 ],
 "metadata": {
  "interpreter": {
   "hash": "a1d973f6c003acf433cab0c605c727689819527632eaa745461d95c55fb06d64"
  },
  "kernelspec": {
   "display_name": "Python 3.9.10 ('pytorch_env')",
   "language": "python",
   "name": "python3"
  },
  "language_info": {
   "codemirror_mode": {
    "name": "ipython",
    "version": 3
   },
   "file_extension": ".py",
   "mimetype": "text/x-python",
   "name": "python",
   "nbconvert_exporter": "python",
   "pygments_lexer": "ipython3",
   "version": "3.9.10"
  },
  "orig_nbformat": 4
 },
 "nbformat": 4,
 "nbformat_minor": 2
}
