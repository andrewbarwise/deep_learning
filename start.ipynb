{
 "cells": [
  {
   "cell_type": "code",
   "execution_count": 4,
   "metadata": {},
   "outputs": [
    {
     "name": "stdout",
     "output_type": "stream",
     "text": [
      "1.10.2\n"
     ]
    },
    {
     "data": {
      "text/plain": [
       "False"
      ]
     },
     "execution_count": 4,
     "metadata": {},
     "output_type": "execute_result"
    }
   ],
   "source": [
    "import torch\n",
    "print(torch.__version__)\n",
    "\n",
    "torch.cuda.is_available()"
   ]
  },
  {
   "cell_type": "markdown",
   "metadata": {},
   "source": [
    "CHAPTER 2: PRETRAINED NETWORKS"
   ]
  },
  {
   "cell_type": "code",
   "execution_count": 13,
   "metadata": {},
   "outputs": [
    {
     "data": {
      "text/plain": [
       "['AlexNet', 'DenseNet', 'Inception3', 'ResNet', 'SqueezeNet']"
      ]
     },
     "execution_count": 13,
     "metadata": {},
     "output_type": "execute_result"
    }
   ],
   "source": [
    "# import pretrained model directory\n",
    "from torchvision import models\n",
    "\n",
    "# look at what the first 5 models are in the directory\n",
    "dir(models)[0:5]"
   ]
  },
  {
   "cell_type": "markdown",
   "metadata": {},
   "source": [
    "first pretrained model to be looked at is AlexNet. With ALexNet input images move through five stacks of filters, each producing a number of output images. after each filter, the images are reduced in size. The images produced by the last stack of filters are laid out as a 4096 element 1D vector and classified to produce 1000 output probabilities, one for each output class."
   ]
  },
  {
   "cell_type": "code",
   "execution_count": 16,
   "metadata": {},
   "outputs": [],
   "source": [
    "# create an instance of the AlexNet class\n",
    "alexnet = models.AlexNet()\n",
    "\n",
    "# if we had an input of the right type we could run a forward pass , however the network is uninitialiazed ( the network is blank, no weights, etc)"
   ]
  },
  {
   "cell_type": "markdown",
   "metadata": {},
   "source": [
    "create an instance of the Resnet network, passing an argument to download the weights of resnet101 trained on the ImageNet dataset (1.2 million images and 1000 categories). "
   ]
  },
  {
   "cell_type": "code",
   "execution_count": 17,
   "metadata": {},
   "outputs": [
    {
     "name": "stderr",
     "output_type": "stream",
     "text": [
      "Downloading: \"https://download.pytorch.org/models/resnet101-5d3b4d8f.pth\" to /Users/andrewbarwise/.cache/torch/hub/checkpoints/resnet101-5d3b4d8f.pth\n",
      "100.0%\n"
     ]
    }
   ],
   "source": [
    "resnet = models.resnet101(pretrained=True)\n",
    "\n",
    "# resnet101 has 44.5 million parameters"
   ]
  }
 ],
 "metadata": {
  "interpreter": {
   "hash": "a1d973f6c003acf433cab0c605c727689819527632eaa745461d95c55fb06d64"
  },
  "kernelspec": {
   "display_name": "Python 3.9.10 ('pytorch_env')",
   "language": "python",
   "name": "python3"
  },
  "language_info": {
   "codemirror_mode": {
    "name": "ipython",
    "version": 3
   },
   "file_extension": ".py",
   "mimetype": "text/x-python",
   "name": "python",
   "nbconvert_exporter": "python",
   "pygments_lexer": "ipython3",
   "version": "3.9.10"
  },
  "orig_nbformat": 4
 },
 "nbformat": 4,
 "nbformat_minor": 2
}
